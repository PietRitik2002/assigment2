{
 "cells": [
  {
   "cell_type": "code",
   "execution_count": 6,
   "id": "936fff88-2d16-452e-a0cc-549478c53ede",
   "metadata": {},
   "outputs": [
    {
     "name": "stdout",
     "output_type": "stream",
     "text": [
      "ritik \n",
      "\n",
      "ritik ritik \n",
      "\n",
      "ritik ritik ritik \n",
      "\n",
      "ritik ritik ritik ritik \n",
      "\n"
     ]
    }
   ],
   "source": [
    "#for loop\n",
    "#Q1 pattern \n",
    "n=5\n",
    "for i in range(4):\n",
    "    for j in range(i+1):\n",
    "        print('ritik' ,end=\" \")\n",
    "    print(\"\\n\")\n",
    "    "
   ]
  },
  {
   "cell_type": "code",
   "execution_count": 7,
   "id": "5b6b79a7-1b7f-4fe3-bcaa-6983ac6907e4",
   "metadata": {},
   "outputs": [
    {
     "name": "stdout",
     "output_type": "stream",
     "text": [
      "[1, 2, 3, 4]\n",
      "['lnb', 'datascien']\n"
     ]
    }
   ],
   "source": [
    "#q2\n",
    "l=[[1,2,3,4],(2,3,4,5,6),(3,4,5,6,7),set([23,4,5,45,4,4,5,4,4,5]),{\"k\":\"ritik\",\"key2\":\"lnb\",3:4,7:8},[\"lnb\",\"datascien\"]]\n",
    "for i in l:\n",
    "    if type(i)==list:\n",
    "        print(i)\n",
    "    "
   ]
  },
  {
   "cell_type": "code",
   "execution_count": 8,
   "id": "47a23c44-8995-4a72-872d-6460bde20eec",
   "metadata": {},
   "outputs": [
    {
     "name": "stdout",
     "output_type": "stream",
     "text": [
      "{'k': 'ritik', 'key2': 'lnb', 3: 4, 7: 8}\n"
     ]
    }
   ],
   "source": [
    "#Q3\n",
    "for i in l:\n",
    "    if type(i)==dict:\n",
    "        print(i)\n",
    "    "
   ]
  },
  {
   "cell_type": "code",
   "execution_count": 10,
   "id": "e98c7ae6-7393-4690-969f-7c3ab9314c25",
   "metadata": {},
   "outputs": [
    {
     "name": "stdout",
     "output_type": "stream",
     "text": [
      "(2, 3, 4, 5, 6)\n",
      "(3, 4, 5, 6, 7)\n"
     ]
    }
   ],
   "source": [
    "#Q4\n",
    "for i in l:\n",
    "    if type(i)==tuple:\n",
    "        print(i)\n",
    "\n"
   ]
  },
  {
   "cell_type": "code",
   "execution_count": 93,
   "id": "2f1df4e9-40e6-4e5c-ae46-bf0af35b1b03",
   "metadata": {},
   "outputs": [
    {
     "name": "stdout",
     "output_type": "stream",
     "text": [
      "1 2 3 4 2 3 4 5 6 3 4 5 6 7 45 4 5 23 "
     ]
    }
   ],
   "source": [
    "#Q5\n",
    "for i in l:\n",
    " if type(i)==tuple or type(i)==list or type(i)==set:\n",
    "     for j in i:\n",
    "         if type(j)==int:\n",
    "            print(j,end=\" \")\n",
    "         if type(i)==dict:\n",
    "          for k,v in i,items():\n",
    "             if k==int:\n",
    "                 print(k)\n",
    "         if type(i)==dict:\n",
    "          for k,v in i,items():\n",
    "             if v==int:\n",
    "                 print(v)\n",
    "         \n",
    "                 \n",
    "                 \n",
    "             "
   ]
  },
  {
   "cell_type": "code",
   "execution_count": 71,
   "id": "51535830-b930-4177-93b0-7c047e84f1e0",
   "metadata": {},
   "outputs": [
    {
     "name": "stdout",
     "output_type": "stream",
     "text": [
      "1\n",
      "3\n"
     ]
    }
   ],
   "source": [
    "#Q6\n",
    "for i in l:\n",
    " if type(i)==list:\n",
    "  for j in i:\n",
    "   if type(j)==int:\n",
    "     if(j%2!=0):\n",
    "       print(j)"
   ]
  },
  {
   "cell_type": "code",
   "execution_count": 77,
   "id": "c8728627-80d2-4d2d-a2bf-58fba025c58c",
   "metadata": {},
   "outputs": [
    {
     "name": "stdout",
     "output_type": "stream",
     "text": [
      "lnb\n"
     ]
    }
   ],
   "source": [
    "#Q7\n",
    "for i in l:\n",
    "    if type(i)==dict or type(i)==list or type(i)==tuple or type(i)==set:\n",
    "        for j in i:\n",
    "         if j==\"lnb\":\n",
    "             print(j)\n",
    "        "
   ]
  },
  {
   "cell_type": "code",
   "execution_count": 79,
   "id": "18910109-822b-47a9-91de-9eb157219b9b",
   "metadata": {},
   "outputs": [
    {
     "name": "stdout",
     "output_type": "stream",
     "text": [
      "k\n",
      "key2\n",
      "3\n",
      "7\n"
     ]
    }
   ],
   "source": [
    "#Q8\n",
    "for i in l:\n",
    "    if type(i)==dict:\n",
    "        for k,v in i.items():\n",
    "            print(k)\n",
    "        "
   ]
  },
  {
   "cell_type": "code",
   "execution_count": 82,
   "id": "9ca1a8cd-10b2-4ca5-95f9-1e5e1768fd16",
   "metadata": {},
   "outputs": [
    {
     "name": "stdout",
     "output_type": "stream",
     "text": [
      "k\n",
      "key2\n",
      "lnb\n",
      "datascien\n"
     ]
    }
   ],
   "source": [
    "#Q9\n",
    "for i in l:\n",
    "    if type(i)==dict or type(i)==list or type(i)==tuple or type(i)==set:\n",
    "        for j in i:\n",
    "            if type(j)==str:\n",
    "                print(j)"
   ]
  },
  {
   "cell_type": "code",
   "execution_count": 84,
   "id": "1aabe030-b3f4-44cc-9dc0-e1f33ecf0957",
   "metadata": {},
   "outputs": [
    {
     "name": "stdout",
     "output_type": "stream",
     "text": [
      "[1, 2, 3, 4]\n",
      "[1, 2, 3, 4]\n",
      "[1, 2, 3, 4]\n",
      "[1, 2, 3, 4]\n",
      "['lnb', 'datascien']\n",
      "['lnb', 'datascien']\n"
     ]
    }
   ],
   "source": [
    "#Q10\n",
    "for i in l:\n",
    "    if type(i)==list:\n",
    "        for j in i:\n",
    "            k=list(i)\n",
    "            print(k)\n"
   ]
  },
  {
   "cell_type": "code",
   "execution_count": 85,
   "id": "bd59d14b-9d9a-449b-8d1a-d67b44e8d923",
   "metadata": {},
   "outputs": [
    {
     "name": "stdout",
     "output_type": "stream",
     "text": [
      "{'k': 'ritik', 'key2': 'lnb', 3: 4, 7: 8}\n"
     ]
    }
   ],
   "source": [
    "#Q11\n",
    "for i in l:\n",
    "    if type(i)==dict:\n",
    "        print(i)"
   ]
  }
 ],
 "metadata": {
  "kernelspec": {
   "display_name": "Python 3 (ipykernel)",
   "language": "python",
   "name": "python3"
  },
  "language_info": {
   "codemirror_mode": {
    "name": "ipython",
    "version": 3
   },
   "file_extension": ".py",
   "mimetype": "text/x-python",
   "name": "python",
   "nbconvert_exporter": "python",
   "pygments_lexer": "ipython3",
   "version": "3.11.4"
  }
 },
 "nbformat": 4,
 "nbformat_minor": 5
}
