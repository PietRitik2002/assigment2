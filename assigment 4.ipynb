{
 "cells": [
  {
   "cell_type": "code",
   "execution_count": 1,
   "id": "4e02d343-d9fa-43fb-9e53-d3c6fd64b213",
   "metadata": {},
   "outputs": [
    {
     "name": "stdout",
     "output_type": "stream",
     "text": [
      "1\n",
      "2\n",
      "3\n",
      "4\n",
      "5\n",
      "6\n",
      "7\n",
      "8\n",
      "9\n"
     ]
    }
   ],
   "source": [
    "#while loop \n",
    "#Q1\n",
    "a=1\n",
    "b=10\n",
    "while a<b:\n",
    "    print(a)\n",
    "    a=a+1"
   ]
  },
  {
   "cell_type": "code",
   "execution_count": 5,
   "id": "a72192b3-7f61-43de-a84d-8ca45c6a6a91",
   "metadata": {},
   "outputs": [
    {
     "name": "stdout",
     "output_type": "stream",
     "text": [
      "1\n",
      "3\n",
      "5\n",
      "7\n",
      "9\n",
      "this block\n"
     ]
    }
   ],
   "source": [
    "#Q2\n",
    "a=1\n",
    "b=10\n",
    "while a<=b:\n",
    "    print(a)\n",
    "    a=a+2\n",
    "else:\n",
    "   print(\"this block\")"
   ]
  },
  {
   "cell_type": "code",
   "execution_count": 6,
   "id": "77ee5d41-4c68-46e2-8fff-a5bf5ef47ad5",
   "metadata": {},
   "outputs": [
    {
     "name": "stdout",
     "output_type": "stream",
     "text": [
      "1\n",
      "2\n",
      "3\n",
      "4\n",
      "5\n"
     ]
    }
   ],
   "source": [
    "#Q3\n",
    "a=1\n",
    "b=10\n",
    "while a<b:\n",
    "    print(a)\n",
    "    if a==5:\n",
    "      break\n",
    "    a=a+1\n",
    "else:\n",
    "    print(\"hii\")\n",
    "        "
   ]
  },
  {
   "cell_type": "code",
   "execution_count": 8,
   "id": "a474e1d4-2e27-4f20-96d0-7fe4f037698a",
   "metadata": {},
   "outputs": [
    {
     "name": "stdout",
     "output_type": "stream",
     "text": [
      "2\n",
      "3\n",
      "4\n",
      "5\n",
      "6\n",
      "7\n",
      "8\n",
      "9\n",
      "11\n",
      "12\n",
      "13\n",
      "14\n",
      "15\n",
      "16\n",
      "17\n",
      "18\n",
      "19\n",
      "20\n"
     ]
    }
   ],
   "source": [
    "#Q4\n",
    "a=1\n",
    "b=20\n",
    "while a<b:\n",
    "    a+=1\n",
    "    if a==10:\n",
    "        continue\n",
    "    print(a)   "
   ]
  },
  {
   "cell_type": "code",
   "execution_count": 10,
   "id": "fd447cc0-91ac-4d32-8dae-c94c5d557b7f",
   "metadata": {},
   "outputs": [
    {
     "name": "stdout",
     "output_type": "stream",
     "text": [
      "2\n",
      "3\n",
      "4\n",
      "5\n",
      "6\n"
     ]
    }
   ],
   "source": [
    "#Q5\n",
    "l=[2,3,4,5,6]\n",
    "a=0\n",
    "while a<len(l):\n",
    "    print(l[a])\n",
    "    a=a+1"
   ]
  },
  {
   "cell_type": "code",
   "execution_count": 12,
   "id": "6482d098-f551-4916-9739-6cd206641b12",
   "metadata": {},
   "outputs": [
    {
     "name": "stdout",
     "output_type": "stream",
     "text": [
      "2\n",
      "3\n"
     ]
    }
   ],
   "source": [
    "#Q6\n",
    "t=[2,3,4,5,6]\n",
    "a=0\n",
    "while a<len(t):\n",
    "    if t[a]==4:\n",
    "        print(a)\n",
    "    if t[a]==5:\n",
    "        print(a)\n",
    "    a=a+1  "
   ]
  },
  {
   "cell_type": "code",
   "execution_count": 14,
   "id": "02b5c6e9-bf29-4b41-a1b6-6d9f87acb07a",
   "metadata": {},
   "outputs": [
    {
     "name": "stdout",
     "output_type": "stream",
     "text": [
      "0\n",
      "5\n"
     ]
    }
   ],
   "source": [
    "#Q7\n",
    "t=[2,3,4,5,6,\"ritik\"]\n",
    "a=0\n",
    "while a<len(t):\n",
    "    if t[a]==\"ritik\":\n",
    "        print(a)\n",
    "    if t[a]==2:\n",
    "        print(a)\n",
    "    a=a+1  "
   ]
  },
  {
   "cell_type": "code",
   "execution_count": 17,
   "id": "df6de919-d4b6-4adf-9d46-48629ce82631",
   "metadata": {},
   "outputs": [
    {
     "data": {
      "text/plain": [
       "6"
      ]
     },
     "execution_count": 17,
     "metadata": {},
     "output_type": "execute_result"
    }
   ],
   "source": [
    "len(t)"
   ]
  }
 ],
 "metadata": {
  "kernelspec": {
   "display_name": "Python 3 (ipykernel)",
   "language": "python",
   "name": "python3"
  },
  "language_info": {
   "codemirror_mode": {
    "name": "ipython",
    "version": 3
   },
   "file_extension": ".py",
   "mimetype": "text/x-python",
   "name": "python",
   "nbconvert_exporter": "python",
   "pygments_lexer": "ipython3",
   "version": "3.11.4"
  }
 },
 "nbformat": 4,
 "nbformat_minor": 5
}
